{
  "nbformat": 4,
  "nbformat_minor": 0,
  "metadata": {
    "colab": {
      "provenance": [],
      "include_colab_link": true
    },
    "kernelspec": {
      "name": "python3",
      "display_name": "Python 3"
    },
    "language_info": {
      "name": "python"
    }
  },
  "cells": [
    {
      "cell_type": "markdown",
      "metadata": {
        "id": "view-in-github",
        "colab_type": "text"
      },
      "source": [
        "<a href=\"https://colab.research.google.com/github/carlosestiben/PruebaGithub/blob/master/Entregable_2_dataframe_25%20filas.ipynb\" target=\"_parent\"><img src=\"https://colab.research.google.com/assets/colab-badge.svg\" alt=\"Open In Colab\"/></a>"
      ]
    },
    {
      "cell_type": "code",
      "execution_count": null,
      "metadata": {
        "colab": {
          "base_uri": "https://localhost:8080/"
        },
        "id": "B7nFPJaGpRpl",
        "outputId": "a56c3a5c-cb2b-4d9a-bc96-aca32b1600db"
      },
      "outputs": [
        {
          "output_type": "stream",
          "name": "stdout",
          "text": [
            "         Name  Age         City University   Salary\n",
            "0      Camila   37    Manizales        Ces  7552.15\n",
            "1      Camila   32  Bucaramanga        Ces  7460.06\n",
            "2       Laura   29         Cali       UdeA  2558.54\n",
            "3       Jorge   30      Pereira       UdeA  4323.34\n",
            "4      Andres   34    Cartagena        Ces  2550.71\n",
            "5       Diana   36    Manizales   Nacional  6018.55\n",
            "6    Fernando   35       Bogota       UdeA  7729.07\n",
            "7       Maria   27         Cali        Ces  5940.13\n",
            "8      Carlos   34         Cali       UdeA  3606.97\n",
            "9        Sara   29    Manizales   Nacional  5459.69\n",
            "10      Sofia   33       Ibague       UdeA  4041.85\n",
            "11      David   39       Ibague   Nacional  7629.15\n",
            "12  Sebastian   25    Manizales       UdeA  4358.51\n",
            "13      Pedro   26    Manizales       UdeA  4009.80\n",
            "14       Sara   27       Cucuta        Ces  3418.66\n",
            "15       Sara   22    Manizales        Ces  7405.46\n",
            "16    Natalia   34      Pereira       UdeA  5854.22\n",
            "17      Diana   23     Medellin        Ces  2774.18\n",
            "18      Diana   26       Cucuta   Nacional  5145.43\n",
            "19        Ana   30  Bucaramanga   Nacional  3905.48\n",
            "20    Ricardo   36    Cartagena        Ces  5488.91\n",
            "21       Sara   39    Manizales   Nacional  5163.84\n",
            "22  Alejandra   30     Medellin       UdeA  2991.96\n",
            "23      Jorge   34       Ibague   Nacional  2829.07\n",
            "24       Luis   25       Bogota        Ces  6144.52\n"
          ]
        }
      ],
      "source": [
        "import pandas as pd\n",
        "import numpy as np\n",
        "#1. Crear un DataFrame, con el fin de organizar y visualizar los datos de manera estructurada\n",
        "\n",
        "data = {'Name': ['Camila', 'Camila', 'Laura', 'Jorge', 'Andres', 'Diana', 'Fernando', 'Maria', 'Carlos', 'Sara',\n",
        "             'Sofia', 'David', 'Sebastian', 'Pedro', 'Sara', 'Sara', 'Natalia', 'Diana', 'Diana', 'Ana',\n",
        "             'Ricardo', 'Sara', 'Alejandra', 'Jorge', 'Luis'],\n",
        "    'Age': [37, 32, 29, 30, 34, 36, 35, 27, 34, 29, 33, 39, 25, 26, 27, 22, 34, 23, 26, 30, 36, 39, 30, 34, 25],\n",
        "    'City': ['Manizales', 'Bucaramanga', 'Cali', 'Pereira', 'Cartagena', 'Manizales', 'Bogota', 'Cali', 'Cali',\n",
        "             'Manizales', 'Ibague', 'Ibague', 'Manizales', 'Manizales', 'Cucuta', 'Manizales', 'Pereira',\n",
        "             'Medellin', 'Cucuta', 'Bucaramanga', 'Cartagena', 'Manizales', 'Medellin', 'Ibague', 'Bogota'],\n",
        "    'University': ['Ces', 'Ces', 'UdeA', 'UdeA', 'Ces', 'Nacional', 'UdeA', 'Ces', 'UdeA', 'Nacional', 'UdeA',\n",
        "                   'Nacional', 'UdeA', 'UdeA', 'Ces', 'Ces', 'UdeA', 'Ces', 'Nacional', 'Nacional', 'Ces',\n",
        "                   'Nacional', 'UdeA', 'Nacional', 'Ces'],\n",
        "    'Salary': [7552.15, 7460.06, 2558.54, 4323.34, 2550.71, 6018.55, 7729.07, 5940.13, 3606.97, 5459.69,\n",
        "               4041.85, 7629.15, 4358.51, 4009.8, 3418.66, 7405.46, 5854.22, 2774.18, 5145.43, 3905.48,\n",
        "               5488.91, 5163.84, 2991.96, 2829.07, 6144.52]}\n",
        "\n",
        "df = pd.DataFrame(data)\n",
        "print(df)\n"
      ]
    },
    {
      "cell_type": "code",
      "source": [
        "#2. Seleccionar una columna del DataFrame para tener una vista rapida de datos especificos\n",
        "print(df['Name'])\n"
      ],
      "metadata": {
        "colab": {
          "base_uri": "https://localhost:8080/"
        },
        "id": "9FK2F_SurQmT",
        "outputId": "c7fdf47e-f5b9-4dcc-d896-3a63137537db"
      },
      "execution_count": null,
      "outputs": [
        {
          "output_type": "stream",
          "name": "stdout",
          "text": [
            "0        Camila\n",
            "1        Camila\n",
            "2         Laura\n",
            "3         Jorge\n",
            "4        Andres\n",
            "5         Diana\n",
            "6      Fernando\n",
            "7         Maria\n",
            "8        Carlos\n",
            "9          Sara\n",
            "10        Sofia\n",
            "11        David\n",
            "12    Sebastian\n",
            "13        Pedro\n",
            "14         Sara\n",
            "15         Sara\n",
            "16      Natalia\n",
            "17        Diana\n",
            "18        Diana\n",
            "19          Ana\n",
            "20      Ricardo\n",
            "21         Sara\n",
            "22    Alejandra\n",
            "23        Jorge\n",
            "24         Luis\n",
            "Name: Name, dtype: object\n"
          ]
        }
      ]
    },
    {
      "cell_type": "code",
      "source": [
        "#3. Seleccionar fila con loc y asignar valores por etiquetas\n",
        "df['Category'] = df['Salary'].apply(lambda x: 'Executive' if x >= 5000 else 'operator')\n",
        "\n",
        "print(df.loc[df['Category'] == 'Executive'])"
      ],
      "metadata": {
        "colab": {
          "base_uri": "https://localhost:8080/"
        },
        "id": "B_v14MwMr9IW",
        "outputId": "37302bba-146f-4ec2-c473-ca5dfa5c8ac2"
      },
      "execution_count": null,
      "outputs": [
        {
          "output_type": "stream",
          "name": "stdout",
          "text": [
            "        Name  Age         City University   Salary   Category\n",
            "0     Camila   37    Manizales        Ces  7552.15  Executive\n",
            "1     Camila   32  Bucaramanga        Ces  7460.06  Executive\n",
            "5      Diana   36    Manizales   Nacional  6018.55  Executive\n",
            "6   Fernando   35       Bogota       UdeA  7729.07  Executive\n",
            "7      Maria   27         Cali        Ces  5940.13  Executive\n",
            "9       Sara   29    Manizales   Nacional  5459.69  Executive\n",
            "11     David   39       Ibague   Nacional  7629.15  Executive\n",
            "15      Sara   22    Manizales        Ces  7405.46  Executive\n",
            "16   Natalia   34      Pereira       UdeA  5854.22  Executive\n",
            "18     Diana   26       Cucuta   Nacional  5145.43  Executive\n",
            "20   Ricardo   36    Cartagena        Ces  5488.91  Executive\n",
            "21      Sara   39    Manizales   Nacional  5163.84  Executive\n",
            "24      Luis   25       Bogota        Ces  6144.52  Executive\n"
          ]
        }
      ]
    },
    {
      "cell_type": "code",
      "source": [
        "df['Category'] = df['Salary'].apply(lambda x: 'Executive' if x >= 5000 else 'operator')\n",
        "\n",
        "print(df.loc[df['Category'] == 'operator'])"
      ],
      "metadata": {
        "colab": {
          "base_uri": "https://localhost:8080/"
        },
        "id": "F8fXt2oKtiix",
        "outputId": "01523017-e149-4239-9ab0-1fd95fb7dd28"
      },
      "execution_count": null,
      "outputs": [
        {
          "output_type": "stream",
          "name": "stdout",
          "text": [
            "         Name  Age         City University   Salary  Category\n",
            "2       Laura   29         Cali       UdeA  2558.54  operator\n",
            "3       Jorge   30      Pereira       UdeA  4323.34  operator\n",
            "4      Andres   34    Cartagena        Ces  2550.71  operator\n",
            "8      Carlos   34         Cali       UdeA  3606.97  operator\n",
            "10      Sofia   33       Ibague       UdeA  4041.85  operator\n",
            "12  Sebastian   25    Manizales       UdeA  4358.51  operator\n",
            "13      Pedro   26    Manizales       UdeA  4009.80  operator\n",
            "14       Sara   27       Cucuta        Ces  3418.66  operator\n",
            "17      Diana   23     Medellin        Ces  2774.18  operator\n",
            "19        Ana   30  Bucaramanga   Nacional  3905.48  operator\n",
            "22  Alejandra   30     Medellin       UdeA  2991.96  operator\n",
            "23      Jorge   34       Ibague   Nacional  2829.07  operator\n"
          ]
        }
      ]
    },
    {
      "cell_type": "code",
      "source": [
        "#4. Filtrar datos, para visualizar el subconjuto especifico UdeA de la columna universidad\n",
        "Best_University= df[df['University']=='UdeA']\n",
        "print(Best_University)\n",
        "\n"
      ],
      "metadata": {
        "colab": {
          "base_uri": "https://localhost:8080/"
        },
        "id": "txNBvjVGtpOi",
        "outputId": "09cc3a65-5fc2-4381-a942-c3563b05fc5d"
      },
      "execution_count": null,
      "outputs": [
        {
          "output_type": "stream",
          "name": "stdout",
          "text": [
            "         Name  Age       City University   Salary   Category\n",
            "2       Laura   29       Cali       UdeA  2558.54   operator\n",
            "3       Jorge   30    Pereira       UdeA  4323.34   operator\n",
            "6    Fernando   35     Bogota       UdeA  7729.07  Executive\n",
            "8      Carlos   34       Cali       UdeA  3606.97   operator\n",
            "10      Sofia   33     Ibague       UdeA  4041.85   operator\n",
            "12  Sebastian   25  Manizales       UdeA  4358.51   operator\n",
            "13      Pedro   26  Manizales       UdeA  4009.80   operator\n",
            "16    Natalia   34    Pereira       UdeA  5854.22  Executive\n",
            "22  Alejandra   30   Medellin       UdeA  2991.96   operator\n"
          ]
        }
      ]
    },
    {
      "cell_type": "code",
      "source": [
        "#5. Estadistica descriptiva\n",
        "print(df.describe())"
      ],
      "metadata": {
        "colab": {
          "base_uri": "https://localhost:8080/"
        },
        "id": "-JnV3CEuurye",
        "outputId": "2bfc03e3-a725-4143-d7cc-b6cd40049fbf"
      },
      "execution_count": null,
      "outputs": [
        {
          "output_type": "stream",
          "name": "stdout",
          "text": [
            "             Age       Salary\n",
            "count  25.000000    25.000000\n",
            "mean   30.880000  4974.410000\n",
            "std     4.918672  1722.655232\n",
            "min    22.000000  2550.710000\n",
            "25%    27.000000  3606.970000\n",
            "50%    30.000000  5145.430000\n",
            "75%    34.000000  6018.550000\n",
            "max    39.000000  7729.070000\n"
          ]
        }
      ]
    },
    {
      "cell_type": "code",
      "source": [
        "#6. Eliminar columnas\n",
        "df = df.drop('Category', axis=1)\n",
        "print(df)"
      ],
      "metadata": {
        "colab": {
          "base_uri": "https://localhost:8080/"
        },
        "id": "y8n2SRfcveS4",
        "outputId": "58763149-8f4d-4c9d-c8d1-871e42982411"
      },
      "execution_count": null,
      "outputs": [
        {
          "output_type": "stream",
          "name": "stdout",
          "text": [
            "         Name  Age         City University   Salary\n",
            "0      Camila   37    Manizales        Ces  7552.15\n",
            "1      Camila   32  Bucaramanga        Ces  7460.06\n",
            "2       Laura   29         Cali       UdeA  2558.54\n",
            "3       Jorge   30      Pereira       UdeA  4323.34\n",
            "4      Andres   34    Cartagena        Ces  2550.71\n",
            "5       Diana   36    Manizales   Nacional  6018.55\n",
            "6    Fernando   35       Bogota       UdeA  7729.07\n",
            "7       Maria   27         Cali        Ces  5940.13\n",
            "8      Carlos   34         Cali       UdeA  3606.97\n",
            "9        Sara   29    Manizales   Nacional  5459.69\n",
            "10      Sofia   33       Ibague       UdeA  4041.85\n",
            "11      David   39       Ibague   Nacional  7629.15\n",
            "12  Sebastian   25    Manizales       UdeA  4358.51\n",
            "13      Pedro   26    Manizales       UdeA  4009.80\n",
            "14       Sara   27       Cucuta        Ces  3418.66\n",
            "15       Sara   22    Manizales        Ces  7405.46\n",
            "16    Natalia   34      Pereira       UdeA  5854.22\n",
            "17      Diana   23     Medellin        Ces  2774.18\n",
            "18      Diana   26       Cucuta   Nacional  5145.43\n",
            "19        Ana   30  Bucaramanga   Nacional  3905.48\n",
            "20    Ricardo   36    Cartagena        Ces  5488.91\n",
            "21       Sara   39    Manizales   Nacional  5163.84\n",
            "22  Alejandra   30     Medellin       UdeA  2991.96\n",
            "23      Jorge   34       Ibague   Nacional  2829.07\n",
            "24       Luis   25       Bogota        Ces  6144.52\n"
          ]
        }
      ]
    },
    {
      "cell_type": "code",
      "source": [
        "#7. Agregar nuevas columnas\n",
        "df['Currency'] = 'USD'\n",
        "print(df)"
      ],
      "metadata": {
        "colab": {
          "base_uri": "https://localhost:8080/"
        },
        "id": "FNbs7IP2u-gN",
        "outputId": "bd87fe25-7db4-4808-c056-48d98dac390b"
      },
      "execution_count": null,
      "outputs": [
        {
          "output_type": "stream",
          "name": "stdout",
          "text": [
            "         Name  Age         City University   Salary Currency\n",
            "0      Camila   37    Manizales        Ces  7552.15      USD\n",
            "1      Camila   32  Bucaramanga        Ces  7460.06      USD\n",
            "2       Laura   29         Cali       UdeA  2558.54      USD\n",
            "3       Jorge   30      Pereira       UdeA  4323.34      USD\n",
            "4      Andres   34    Cartagena        Ces  2550.71      USD\n",
            "5       Diana   36    Manizales   Nacional  6018.55      USD\n",
            "6    Fernando   35       Bogota       UdeA  7729.07      USD\n",
            "7       Maria   27         Cali        Ces  5940.13      USD\n",
            "8      Carlos   34         Cali       UdeA  3606.97      USD\n",
            "9        Sara   29    Manizales   Nacional  5459.69      USD\n",
            "10      Sofia   33       Ibague       UdeA  4041.85      USD\n",
            "11      David   39       Ibague   Nacional  7629.15      USD\n",
            "12  Sebastian   25    Manizales       UdeA  4358.51      USD\n",
            "13      Pedro   26    Manizales       UdeA  4009.80      USD\n",
            "14       Sara   27       Cucuta        Ces  3418.66      USD\n",
            "15       Sara   22    Manizales        Ces  7405.46      USD\n",
            "16    Natalia   34      Pereira       UdeA  5854.22      USD\n",
            "17      Diana   23     Medellin        Ces  2774.18      USD\n",
            "18      Diana   26       Cucuta   Nacional  5145.43      USD\n",
            "19        Ana   30  Bucaramanga   Nacional  3905.48      USD\n",
            "20    Ricardo   36    Cartagena        Ces  5488.91      USD\n",
            "21       Sara   39    Manizales   Nacional  5163.84      USD\n",
            "22  Alejandra   30     Medellin       UdeA  2991.96      USD\n",
            "23      Jorge   34       Ibague   Nacional  2829.07      USD\n",
            "24       Luis   25       Bogota        Ces  6144.52      USD\n"
          ]
        }
      ]
    },
    {
      "cell_type": "code",
      "source": [
        "#8. Operaciones con las columnas\n",
        "df['security'] = df['Salary'] * 0.04\n",
        "print(df)"
      ],
      "metadata": {
        "colab": {
          "base_uri": "https://localhost:8080/"
        },
        "id": "NLnBb6EBvp-z",
        "outputId": "b7eb1e9a-c1c0-480f-cbc8-0b4bdb494982"
      },
      "execution_count": null,
      "outputs": [
        {
          "output_type": "stream",
          "name": "stdout",
          "text": [
            "         Name  Age         City University   Salary Currency  security\n",
            "0      Camila   37    Manizales        Ces  7552.15      USD  302.0860\n",
            "1      Camila   32  Bucaramanga        Ces  7460.06      USD  298.4024\n",
            "2       Laura   29         Cali       UdeA  2558.54      USD  102.3416\n",
            "3       Jorge   30      Pereira       UdeA  4323.34      USD  172.9336\n",
            "4      Andres   34    Cartagena        Ces  2550.71      USD  102.0284\n",
            "5       Diana   36    Manizales   Nacional  6018.55      USD  240.7420\n",
            "6    Fernando   35       Bogota       UdeA  7729.07      USD  309.1628\n",
            "7       Maria   27         Cali        Ces  5940.13      USD  237.6052\n",
            "8      Carlos   34         Cali       UdeA  3606.97      USD  144.2788\n",
            "9        Sara   29    Manizales   Nacional  5459.69      USD  218.3876\n",
            "10      Sofia   33       Ibague       UdeA  4041.85      USD  161.6740\n",
            "11      David   39       Ibague   Nacional  7629.15      USD  305.1660\n",
            "12  Sebastian   25    Manizales       UdeA  4358.51      USD  174.3404\n",
            "13      Pedro   26    Manizales       UdeA  4009.80      USD  160.3920\n",
            "14       Sara   27       Cucuta        Ces  3418.66      USD  136.7464\n",
            "15       Sara   22    Manizales        Ces  7405.46      USD  296.2184\n",
            "16    Natalia   34      Pereira       UdeA  5854.22      USD  234.1688\n",
            "17      Diana   23     Medellin        Ces  2774.18      USD  110.9672\n",
            "18      Diana   26       Cucuta   Nacional  5145.43      USD  205.8172\n",
            "19        Ana   30  Bucaramanga   Nacional  3905.48      USD  156.2192\n",
            "20    Ricardo   36    Cartagena        Ces  5488.91      USD  219.5564\n",
            "21       Sara   39    Manizales   Nacional  5163.84      USD  206.5536\n",
            "22  Alejandra   30     Medellin       UdeA  2991.96      USD  119.6784\n",
            "23      Jorge   34       Ibague   Nacional  2829.07      USD  113.1628\n",
            "24       Luis   25       Bogota        Ces  6144.52      USD  245.7808\n"
          ]
        }
      ]
    },
    {
      "cell_type": "code",
      "source": [
        "#9. Agrupar datos\n",
        "grouped = df.groupby('University')['Salary'].mean()\n",
        "print(grouped)"
      ],
      "metadata": {
        "colab": {
          "base_uri": "https://localhost:8080/"
        },
        "id": "2BBsfytSwSZu",
        "outputId": "4c9bf351-8cf9-4c72-c5d6-d17796b712d7"
      },
      "execution_count": null,
      "outputs": [
        {
          "output_type": "stream",
          "name": "stdout",
          "text": [
            "University\n",
            "Ces         5414.975556\n",
            "Nacional    5164.458571\n",
            "UdeA        4386.028889\n",
            "Name: Salary, dtype: float64\n"
          ]
        }
      ]
    },
    {
      "cell_type": "code",
      "source": [
        "#10. Ordenar datos\n",
        "df_sorted = df.sort_values(by='Salary', ascending=True)\n",
        "print(df_sorted)"
      ],
      "metadata": {
        "colab": {
          "base_uri": "https://localhost:8080/"
        },
        "id": "plmQutyLwlfX",
        "outputId": "13cfddc2-a4aa-41d1-f600-7eaff6eaf699"
      },
      "execution_count": null,
      "outputs": [
        {
          "output_type": "stream",
          "name": "stdout",
          "text": [
            "         Name  Age         City University   Salary Currency  security\n",
            "4      Andres   34    Cartagena        Ces  2550.71      USD  102.0284\n",
            "2       Laura   29         Cali       UdeA  2558.54      USD  102.3416\n",
            "17      Diana   23     Medellin        Ces  2774.18      USD  110.9672\n",
            "23      Jorge   34       Ibague   Nacional  2829.07      USD  113.1628\n",
            "22  Alejandra   30     Medellin       UdeA  2991.96      USD  119.6784\n",
            "14       Sara   27       Cucuta        Ces  3418.66      USD  136.7464\n",
            "8      Carlos   34         Cali       UdeA  3606.97      USD  144.2788\n",
            "19        Ana   30  Bucaramanga   Nacional  3905.48      USD  156.2192\n",
            "13      Pedro   26    Manizales       UdeA  4009.80      USD  160.3920\n",
            "10      Sofia   33       Ibague       UdeA  4041.85      USD  161.6740\n",
            "3       Jorge   30      Pereira       UdeA  4323.34      USD  172.9336\n",
            "12  Sebastian   25    Manizales       UdeA  4358.51      USD  174.3404\n",
            "18      Diana   26       Cucuta   Nacional  5145.43      USD  205.8172\n",
            "21       Sara   39    Manizales   Nacional  5163.84      USD  206.5536\n",
            "9        Sara   29    Manizales   Nacional  5459.69      USD  218.3876\n",
            "20    Ricardo   36    Cartagena        Ces  5488.91      USD  219.5564\n",
            "16    Natalia   34      Pereira       UdeA  5854.22      USD  234.1688\n",
            "7       Maria   27         Cali        Ces  5940.13      USD  237.6052\n",
            "5       Diana   36    Manizales   Nacional  6018.55      USD  240.7420\n",
            "24       Luis   25       Bogota        Ces  6144.52      USD  245.7808\n",
            "15       Sara   22    Manizales        Ces  7405.46      USD  296.2184\n",
            "1      Camila   32  Bucaramanga        Ces  7460.06      USD  298.4024\n",
            "0      Camila   37    Manizales        Ces  7552.15      USD  302.0860\n",
            "11      David   39       Ibague   Nacional  7629.15      USD  305.1660\n",
            "6    Fernando   35       Bogota       UdeA  7729.07      USD  309.1628\n"
          ]
        }
      ]
    },
    {
      "cell_type": "code",
      "source": [
        "#11. Cambiar el nombre de las columnas\n",
        "df.rename(columns={'Name': 'Fist Name', 'University': 'Alma mater'}, inplace=True)\n",
        "print(df)"
      ],
      "metadata": {
        "colab": {
          "base_uri": "https://localhost:8080/"
        },
        "id": "ZiGec7B_w1PK",
        "outputId": "07c525a3-8f5f-475d-9333-7f386c34de5d"
      },
      "execution_count": null,
      "outputs": [
        {
          "output_type": "stream",
          "name": "stdout",
          "text": [
            "    Fist Name  Age         City Alma mater   Salary Currency  security\n",
            "0      Camila   37    Manizales        Ces  7552.15      USD  302.0860\n",
            "1      Camila   32  Bucaramanga        Ces  7460.06      USD  298.4024\n",
            "2       Laura   29         Cali       UdeA  2558.54      USD  102.3416\n",
            "3       Jorge   30      Pereira       UdeA  4323.34      USD  172.9336\n",
            "4      Andres   34    Cartagena        Ces  2550.71      USD  102.0284\n",
            "5       Diana   36    Manizales   Nacional  6018.55      USD  240.7420\n",
            "6    Fernando   35       Bogota       UdeA  7729.07      USD  309.1628\n",
            "7       Maria   27         Cali        Ces  5940.13      USD  237.6052\n",
            "8      Carlos   34         Cali       UdeA  3606.97      USD  144.2788\n",
            "9        Sara   29    Manizales   Nacional  5459.69      USD  218.3876\n",
            "10      Sofia   33       Ibague       UdeA  4041.85      USD  161.6740\n",
            "11      David   39       Ibague   Nacional  7629.15      USD  305.1660\n",
            "12  Sebastian   25    Manizales       UdeA  4358.51      USD  174.3404\n",
            "13      Pedro   26    Manizales       UdeA  4009.80      USD  160.3920\n",
            "14       Sara   27       Cucuta        Ces  3418.66      USD  136.7464\n",
            "15       Sara   22    Manizales        Ces  7405.46      USD  296.2184\n",
            "16    Natalia   34      Pereira       UdeA  5854.22      USD  234.1688\n",
            "17      Diana   23     Medellin        Ces  2774.18      USD  110.9672\n",
            "18      Diana   26       Cucuta   Nacional  5145.43      USD  205.8172\n",
            "19        Ana   30  Bucaramanga   Nacional  3905.48      USD  156.2192\n",
            "20    Ricardo   36    Cartagena        Ces  5488.91      USD  219.5564\n",
            "21       Sara   39    Manizales   Nacional  5163.84      USD  206.5536\n",
            "22  Alejandra   30     Medellin       UdeA  2991.96      USD  119.6784\n",
            "23      Jorge   34       Ibague   Nacional  2829.07      USD  113.1628\n",
            "24       Luis   25       Bogota        Ces  6144.52      USD  245.7808\n"
          ]
        }
      ]
    },
    {
      "cell_type": "code",
      "source": [
        "#12. Buscar valores especificos\n",
        "\n",
        "print(df[df['City'] == 'Manizales'])"
      ],
      "metadata": {
        "id": "4t8R4NiHxaLX",
        "colab": {
          "base_uri": "https://localhost:8080/"
        },
        "outputId": "c36043cc-a8ab-4dd3-8ec2-be17d98cad5d"
      },
      "execution_count": null,
      "outputs": [
        {
          "output_type": "stream",
          "name": "stdout",
          "text": [
            "    Fist Name  Age       City Alma mater   Salary Currency  security\n",
            "0      Camila   37  Manizales        Ces  7552.15      USD  302.0860\n",
            "5       Diana   36  Manizales   Nacional  6018.55      USD  240.7420\n",
            "9        Sara   29  Manizales   Nacional  5459.69      USD  218.3876\n",
            "12  Sebastian   25  Manizales       UdeA  4358.51      USD  174.3404\n",
            "13      Pedro   26  Manizales       UdeA  4009.80      USD  160.3920\n",
            "15       Sara   22  Manizales        Ces  7405.46      USD  296.2184\n",
            "21       Sara   39  Manizales   Nacional  5163.84      USD  206.5536\n"
          ]
        }
      ]
    }
  ]
}